{
 "cells": [
  {
   "cell_type": "code",
   "execution_count": 34,
   "metadata": {},
   "outputs": [
    {
     "name": "stdout",
     "output_type": "stream",
     "text": [
      "Banks robbed: [626, 1471, 7562, 3093, 2849, 9345, 5800, 3169, 206, 8753, 9486, 6794, 9390, 2644, 7063, 9644, 9074, 3128, 7587, 9558, 4321, 1128, 4289, 4215, 8046, 2848, 9129, 1804, 5887, 409, 8708, 5638]\n",
      "Total score: 459400\n",
      "Time left (hr): 0.12376340899704008\n"
     ]
    },
    {
     "data": {
      "text/plain": [
       "'\\nThe paradigms used for this project is the Greedy Algorithmn,hope you enjoy and please give me feed back as to how to improve or be more efficient  in my code\\n'"
      ]
     },
     "execution_count": 34,
     "metadata": {},
     "output_type": "execute_result"
    }
   ],
   "source": [
    "import pandas as pd\n",
    "import numpy as np\n",
    "from scipy.spatial.distance import pdist, squareform\n",
    "\n",
    "\n",
    "# load the data into a Pandas data frame\n",
    "df = pd.read_csv('../data/bank_data.csv')\n",
    "df2=df.nlargest(len(df),['money'])\n",
    "\n",
    "\n",
    "\n",
    "# compute the pairwise distances between banks\n",
    "distance = squareform(pdist(df2[['x_coordinate','y_coordinate']]))\n",
    "\n",
    "# compute the FirstBank scores for each bank\n",
    "df2['Move_Distance'] = np.sqrt(df.x_coordinate**2 + df.y_coordinate**2)\n",
    "df2['FirstBankScore'] = df2.money / (df2['time (hr)'] + (df2.Move_Distance / 30))\n",
    "\n",
    "# find the bank with the highest FirstBank score\n",
    "FirstBankScore = df2['FirstBankScore'].argmax()\n",
    "\n",
    "# initialize variables for keeping track of banks robbed, score, and time left\n",
    "Bank_Robbed = [FirstBankScore]\n",
    "score = df2.loc[FirstBankScore, 'money']\n",
    "time_left = 24 - df2.loc[FirstBankScore, 'Move_Distance'] / 30 - df2.loc[FirstBankScore, 'time (hr)']\n",
    "\n",
    "# iterate to find the next bank to rob until time runs out or all banks have been robbed\n",
    "while True:\n",
    "    next_bank = None\n",
    "    for i in range(len(df)):\n",
    "        if i not in Bank_Robbed:\n",
    "            if next_bank is None or distance[Bank_Robbed[-1], i] < distance[Bank_Robbed[-1], next_bank]:\n",
    "                next_bank = i\n",
    "    if next_bank is None or len(Bank_Robbed) >= len(df2):\n",
    "        break\n",
    "    Bank_Robbed.append(next_bank)\n",
    "    score += df2.loc[next_bank, 'money']\n",
    "    time_left -= df2.loc[next_bank, 'Move_Distance'] / 30 + df2.loc[next_bank, 'time (hr)']\n",
    "    if time_left < 0:\n",
    "        break\n",
    "\n",
    "# print the results\n",
    "print(\"Banks robbed:\", Bank_Robbed)\n",
    "# print total score result\n",
    "print(\"Total score:\", score)\n",
    "# print time left\n",
    "print(\"Time left (hr):\", abs(time_left))\n",
    "\n",
    "\n",
    "\n",
    "\"\"\"\n",
    "The paradigms used for this project is the Greedy Algorithmn,hope you enjoy and please give me feed back as to how to improve or be more efficient in my code\n",
    "\"\"\"\n",
    "\n"
   ]
  }
 ],
 "metadata": {
  "kernelspec": {
   "display_name": "base",
   "language": "python",
   "name": "python3"
  },
  "language_info": {
   "codemirror_mode": {
    "name": "ipython",
    "version": 3
   },
   "file_extension": ".py",
   "mimetype": "text/x-python",
   "name": "python",
   "nbconvert_exporter": "python",
   "pygments_lexer": "ipython3",
   "version": "3.9.13"
  },
  "orig_nbformat": 4
 },
 "nbformat": 4,
 "nbformat_minor": 2
}
